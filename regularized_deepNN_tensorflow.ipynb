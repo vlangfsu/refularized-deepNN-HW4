{
  "nbformat": 4,
  "nbformat_minor": 0,
  "metadata": {
    "coursera": {
      "course_slug": "neural-networks-deep-learning",
      "graded_item_id": "TSPse",
      "launcher_item_id": "24mxX"
    },
    "kernelspec": {
      "display_name": "Python 3",
      "language": "python",
      "name": "python3"
    },
    "language_info": {
      "codemirror_mode": {
        "name": "ipython",
        "version": 3
      },
      "file_extension": ".py",
      "mimetype": "text/x-python",
      "name": "python",
      "nbconvert_exporter": "python",
      "pygments_lexer": "ipython3",
      "version": "3.8.10"
    },
    "colab": {
      "name": "regularized_deepNN_tensorflow.ipynb",
      "provenance": [],
      "collapsed_sections": [],
      "include_colab_link": true
    }
  },
  "cells": [
    {
      "cell_type": "markdown",
      "metadata": {
        "id": "view-in-github",
        "colab_type": "text"
      },
      "source": [
        "<a href=\"https://colab.research.google.com/github/vlangfsu/refularized-deepNN-HW4/blob/main/regularized_deepNN_tensorflow.ipynb\" target=\"_parent\"><img src=\"https://colab.research.google.com/assets/colab-badge.svg\" alt=\"Open In Colab\"/></a>"
      ]
    },
    {
      "cell_type": "markdown",
      "metadata": {
        "id": "WQInL2R-rxRP"
      },
      "source": [
        "# Image Application: cat or not?\n",
        "\n",
        "**After this assignment you will be able to:**\n",
        "- Build and apply a deep neural network to supervised learning. \n",
        "- Learn how to do data normalization\n",
        "- learn how to do weight initialization\n",
        "- Learn how to use regularization\n",
        "\n",
        "Let's get started!"
      ]
    },
    {
      "cell_type": "markdown",
      "metadata": {
        "id": "xys4aQ5UrxRT"
      },
      "source": [
        "## 1 - Packages"
      ]
    },
    {
      "cell_type": "markdown",
      "metadata": {
        "id": "hei_-Ma-tOhR"
      },
      "source": [
        "**Exercise**: Please mount your Google drive, and set up your working folder here."
      ]
    },
    {
      "cell_type": "code",
      "metadata": {
        "id": "_0U8Y54Congl",
        "colab": {
          "base_uri": "https://localhost:8080/"
        },
        "outputId": "a5d0dd9e-85de-46e5-8bdf-e8faa275f4f9"
      },
      "source": [
        "from google.colab import drive\n",
        "drive.mount('/content/drive')"
      ],
      "execution_count": null,
      "outputs": [
        {
          "output_type": "stream",
          "name": "stdout",
          "text": [
            "Drive already mounted at /content/drive; to attempt to forcibly remount, call drive.mount(\"/content/drive\", force_remount=True).\n"
          ]
        }
      ]
    },
    {
      "cell_type": "code",
      "metadata": {
        "id": "ibN88sy3sxy5"
      },
      "source": [
        "import os\n",
        "# start your code here\n",
        "os.chdir(\"/content/drive/MyDrive/Deep Learning Homeworks/Homework4/regularization_tf\") # change your working folder here\n",
        "# end your code here"
      ],
      "execution_count": null,
      "outputs": []
    },
    {
      "cell_type": "markdown",
      "metadata": {
        "id": "o9H7MX-2rxRT"
      },
      "source": [
        "Let's first import all the packages that you will need during this assignment. \n",
        "- [numpy](https://www.numpy.org/) is the fundamental package for scientific computing with Python.\n",
        "- [matplotlib](http://matplotlib.org) is a library to plot graphs in Python.\n",
        "- [h5py](http://www.h5py.org) is a common package to interact with a dataset that is stored on an H5 file.\n",
        "- [PIL](http://www.pythonware.com/products/pil/) and [scipy](https://www.scipy.org/) are used here to test your model with your own picture at the end.\n",
        "- dnn_app_utils provides the customized functions that will be used in this notebook.\n",
        "- np.random.seed(1) is used to keep all the random function calls consistent. It will help us grade your work."
      ]
    },
    {
      "cell_type": "code",
      "metadata": {
        "id": "MY54vu0IrxRU",
        "colab": {
          "base_uri": "https://localhost:8080/"
        },
        "outputId": "04d24bbc-c5a6-449d-c614-0cf7aa685c12"
      },
      "source": [
        "import time\n",
        "import numpy as np\n",
        "import tensorflow as tf\n",
        "import h5py\n",
        "import matplotlib.pyplot as plt\n",
        "import dnn_app_utils_v3 as du\n",
        "from skimage.transform import rescale, resize, downscale_local_mean\n",
        "\n",
        "# refresh 'planar_utils' module\n",
        "import imp\n",
        "imp.reload(du)\n",
        "\n",
        "%matplotlib inline\n",
        "plt.rcParams['figure.figsize'] = (5.0, 4.0) # set default size of plots\n",
        "plt.rcParams['image.interpolation'] = 'nearest'\n",
        "plt.rcParams['image.cmap'] = 'gray'\n",
        "\n",
        "%load_ext autoreload\n",
        "%autoreload 2\n",
        "\n",
        "np.random.seed(1)\n",
        "tf.random.set_seed(1)"
      ],
      "execution_count": null,
      "outputs": [
        {
          "output_type": "stream",
          "name": "stdout",
          "text": [
            "The autoreload extension is already loaded. To reload it, use:\n",
            "  %reload_ext autoreload\n"
          ]
        }
      ]
    },
    {
      "cell_type": "markdown",
      "metadata": {
        "id": "Ng-fWoBBrxRW"
      },
      "source": [
        "## 2 - Dataset\n",
        "\n",
        "**Problem Statement**: You are given a dataset (\"data.h5\") containing:\n",
        "    - a training set of m_train images labelled as cat (1) or non-cat (0)\n",
        "    - a test set of m_test images labelled as cat and non-cat\n",
        "    - each image is of shape (num_px, num_px, 3) where 3 is for the 3 channels (RGB).\n",
        "\n",
        "Let's get more familiar with the dataset. Load the data by running the cell below.\n",
        "\n",
        "The training input and output are stored in 'train_x_orig' and 'train_y'. The test input and output are stored in 'test_x_orig' and 'test_y'. "
      ]
    },
    {
      "cell_type": "code",
      "metadata": {
        "id": "JeriZ2MHrxRW"
      },
      "source": [
        "train_x_orig, train_y, test_x_orig, test_y, classes = du.load_data()\n",
        "#print(classes)"
      ],
      "execution_count": null,
      "outputs": []
    },
    {
      "cell_type": "markdown",
      "metadata": {
        "id": "B6gdY7eWrxRX"
      },
      "source": [
        "The following code will show you an image in the dataset. Feel free to change the index and re-run the cell multiple times to see other images. "
      ]
    },
    {
      "cell_type": "code",
      "metadata": {
        "id": "GLC4JfABrxRX",
        "colab": {
          "base_uri": "https://localhost:8080/",
          "height": 285
        },
        "outputId": "fc82bd51-a451-480d-9c63-a52283c53c30"
      },
      "source": [
        "train_y = train_y.reshape(209,1)\n",
        "test_y = test_y.reshape(50,1)\n",
        "#Had to reshape above ^\n",
        "# Example of a picture\n",
        "index = 200\n",
        "plt.imshow(train_x_orig[index])\n",
        "print(\"y = \" + str(train_y[index,0]) + \". It's a \" + classes[train_y[index,0]].decode(\"utf-8\") +  \" picture.\")\n",
        "#print(train_x_orig[index].shape,train_x_orig[index])\n"
      ],
      "execution_count": null,
      "outputs": [
        {
          "output_type": "stream",
          "name": "stdout",
          "text": [
            "y = 1. It's a cat picture.\n"
          ]
        },
        {
          "output_type": "display_data",
          "data": {
            "image/png": "[encoded data removed]",
            "text/plain": [
              "<Figure size 360x288 with 1 Axes>"
            ]
          },
          "metadata": {
            "needs_background": "light"
          }
        }
      ]
    },
    {
      "cell_type": "markdown",
      "metadata": {
        "id": "8LcmDz99lbsD"
      },
      "source": [
        "Let's explore more about the training data. We are curious about the shape of each image and can use 'train_x_orig[index].shape' to expore it. \n",
        "**Exercise**: Can you tell what the pixel number of each image is?"
      ]
    },
    {
      "cell_type": "code",
      "metadata": {
        "id": "tKIwmFCyrxRY",
        "colab": {
          "base_uri": "https://localhost:8080/"
        },
        "outputId": "df22638e-d6bc-4919-ffb6-cddec0834cf4"
      },
      "source": [
        "# Explore your dataset \n",
        "image_shape=train_x_orig[index].shape\n",
        "print(\"Each image is of size: \", image_shape)\n",
        "#start your code here\n",
        "num_px= train_x_orig[index].shape[0]   # the number of pixels in each column of the image. Hint: The 1st element in image_shape indicates this number?\n",
        "#end your code here\n",
        "print('Number of pixels in each column of the image:', num_px)"
      ],
      "execution_count": null,
      "outputs": [
        {
          "output_type": "stream",
          "name": "stdout",
          "text": [
            "Each image is of size:  (64, 64, 3)\n",
            "Number of pixels in each column of the image: 64\n"
          ]
        }
      ]
    },
    {
      "cell_type": "markdown",
      "metadata": {
        "id": "SBoQZoWQpBU4"
      },
      "source": [
        "We just take a close look at an image of the image set. Now, let's take a look at the whole training set. \n",
        "\n",
        "**Exercise**: The first 4 lines in the following cell print out the shape of the trining images. There are 209 images, and each image has 64 by 64 pixcels and GRB color. \n",
        "\n",
        "Please print out the shape of the test input (stored in `test_x_orig`) and output (stored in `test_y`) data, and tell how many images we have in the test data. "
      ]
    },
    {
      "cell_type": "code",
      "metadata": {
        "colab": {
          "base_uri": "https://localhost:8080/"
        },
        "id": "79Q7fiuYnP1C",
        "outputId": "cc77c2d2-d24d-46ca-c43f-a1178e65fd53"
      },
      "source": [
        "train_x_shape=train_x_orig.shape\n",
        "m_train = train_x_shape[0]\n",
        "print (\"train_x_orig shape: \",train_x_shape)\n",
        "print (\"Number of training examples: \" ,m_train)\n",
        "# start your code here\n",
        "test_x_shape= test_x_orig.shape\n",
        "test_y_shape= test_y.shape\n",
        "m_test = 209\n",
        "# end your code here\n",
        "\n",
        "print (\"test_x_orig shape: \" ,test_x_shape)\n",
        "print (\"test_y shape: \" , test_y_shape)\n",
        "print (\"Number of test examples: \" ,m_test)"
      ],
      "execution_count": null,
      "outputs": [
        {
          "output_type": "stream",
          "name": "stdout",
          "text": [
            "train_x_orig shape:  (209, 64, 64, 3)\n",
            "Number of training examples:  209\n",
            "test_x_orig shape:  (50, 64, 64, 3)\n",
            "test_y shape:  (50, 1)\n",
            "Number of test examples:  209\n"
          ]
        }
      ]
    },
    {
      "cell_type": "markdown",
      "metadata": {
        "id": "pMoCSiCWrxRY"
      },
      "source": [
        "As mentioned in our lecture, you reshape and standardize the images before feeding them to the network. The code is given in the cell below.\n",
        "\n",
        "![alt text](https://drive.google.com/uc?id=12XXwVJpcT-moegSdzejC-W-hD79qDSk9)\n",
        "<caption><center> <u>Figure 1</u>: Image to vector conversion. <br> </center></caption>"
      ]
    },
    {
      "cell_type": "code",
      "metadata": {
        "id": "nrdXco3grxRY"
      },
      "source": [
        "# Reshape the training and test examples \n",
        "train_x_flatten = train_x_orig.reshape(train_x_shape[0], -1)   # The \"-1\" makes reshape flatten the remaining dimensions\n",
        "test_x_flatten = test_x_orig.reshape(test_x_orig.shape[0], -1)"
      ],
      "execution_count": null,
      "outputs": []
    },
    {
      "cell_type": "markdown",
      "metadata": {
        "id": "vvmsCTJfN_OS"
      },
      "source": [
        "Data normalization can help us accelerate the training process. The RGB values of an image are integers in the range of [0,255]. We can normalize the training images to have the feature values between 0 and 1 by using `train_x = train_x_flatten/255.0`.\n",
        "\n",
        "**Exercise**: We normalize the training images using `train_x = train_x_flatten/255.0` in the 1st line. Please normalize the test images to have feature values between 0 and 1."
      ]
    },
    {
      "cell_type": "code",
      "metadata": {
        "colab": {
          "base_uri": "https://localhost:8080/"
        },
        "id": "XpmJC7S8OlGL",
        "outputId": "db151f34-2f50-4c6a-80d5-296fc81bb37c"
      },
      "source": [
        "# Standardize data to have feature values between 0 and 1.\n",
        "train_x = train_x_flatten/255.0\n",
        "\n",
        "#start your code here\n",
        "test_x = test_x_flatten/255.0\n",
        "#end your code here\n",
        "\n",
        "print (\"train_x's shape: \" + str(train_x.shape))\n",
        "print (\"test_x's shape: \" + str(test_x.shape))\n",
        "print (\"train_y's shape: \" + str(train_y.shape))\n",
        "print (\"test_y's shape: \" + str(test_y.shape))"
      ],
      "execution_count": null,
      "outputs": [
        {
          "output_type": "stream",
          "name": "stdout",
          "text": [
            "train_x's shape: (209, 12288)\n",
            "test_x's shape: (50, 12288)\n",
            "train_y's shape: (209, 1)\n",
            "test_y's shape: (50, 1)\n"
          ]
        }
      ]
    },
    {
      "cell_type": "markdown",
      "metadata": {
        "id": "4q-yRZNQQBtY"
      },
      "source": [
        "###3- Build your neural network ###\n",
        "Now, we are going to use the skills in the first module to build our neural network. \n",
        "\n",
        "Excep the input layer, you can use \n",
        "\n",
        "`tf.keras.layers.Dense(20,activation='relu', \n",
        "                            kernel_initializer='glorot_uniform',\n",
        "                            bias_initializer='zeros')`\n",
        "\n",
        "to build the layers. In this example, we have 20 neurons in this layer, use 'relu' as the activation function, initialize our weight randomly using 'glorot_uniform', and our bias is initialized to be 'zeros'. \n",
        "\n",
        "First, we will need an input layer. How many neurons will you need in the input layer? Hint: how many elements does every training input have?\n",
        "\n",
        "Second, we will build several hidden layers. You are free to choose the number of neurons in every hidden layer. \n",
        "\n",
        "Last, we will build the output layer. How many neurons will you need in the output layer? Which activation function is more suitale in this problem? Hint: how many elements does every training output have? What is the range of the training output?\n"
      ]
    },
    {
      "cell_type": "code",
      "metadata": {
        "id": "H71UHvjaxREs",
        "colab": {
          "base_uri": "https://localhost:8080/"
        },
        "outputId": "72cd288f-79f0-45be-f4d6-408d53bf3c3a"
      },
      "source": [
        "tf.random.set_seed(1) # we fixed the seed of the random number generator, so every time running this code, we can have the same results.\n",
        "\n",
        "# start your code here\n",
        "cat_model=tf.keras.Sequential([\n",
        "    tf.keras.layers.InputLayer(input_shape=(12288,)), # how many elements are there in every training image?\n",
        "    tf.keras.layers.Dense(15,activation='relu', # in layer 1, we will have 20 neurons and use 'relu' as the activation function\n",
        "                            kernel_initializer='glorot_uniform', # we will randomly choose the initial weight using the 'glorot_uniform' method\n",
        "                            bias_initializer='zeros'), # we will initialize all bias to be zeros.\n",
        "    #please follow the example of layer 1 to add more hidden layers here. \n",
        "    tf.keras.layers.Dense(45,activation='relu', # in layer 1, we will have 20 neurons and use 'relu' as the activation function\n",
        "                            kernel_initializer='glorot_uniform', # we will randomly choose the initial weight using the 'glorot_uniform' method\n",
        "                            bias_initializer='zeros'), # we will initialize all bias to be zeros.\n",
        "    # End adding hidden layers                    \n",
        "    tf.keras.layers.Dense(1,activation='sigmoid', # how many elements are there in every training output\n",
        "                            kernel_initializer='glorot_uniform',\n",
        "                            bias_initializer='zeros'),\n",
        "])\n",
        "# end your code here\n",
        "cat_model.summary()"
      ],
      "execution_count": null,
      "outputs": [
        {
          "output_type": "stream",
          "name": "stdout",
          "text": [
            "Model: \"sequential_39\"\n",
            "_________________________________________________________________\n",
            " Layer (type)                Output Shape              Param #   \n",
            "=================================================================\n",
            " dense_107 (Dense)           (None, 15)                184335    \n",
            "                                                                 \n",
            " dense_108 (Dense)           (None, 45)                720       \n",
            "                                                                 \n",
            " dense_109 (Dense)           (None, 1)                 46        \n",
            "                                                                 \n",
            "=================================================================\n",
            "Total params: 185,101\n",
            "Trainable params: 185,101\n",
            "Non-trainable params: 0\n",
            "_________________________________________________________________\n"
          ]
        }
      ]
    },
    {
      "cell_type": "markdown",
      "metadata": {
        "id": "nRMApHybXkD8"
      },
      "source": [
        "Now, let's compile the model. When comiling your model, you will need to specify the optimizer, the loss function, and the metrics.\n",
        "\n",
        "For optimizers, the most popular ones are 'Adam' and its derivatives. You can also try 'RMSprop' and 'SGD' to see which one works better for you. You might need adjust the learning rate to acceperate the training process. \n",
        "\n",
        "For loss functions, our problem is a two-class classification problem. The most popular loss function would be 'BinaryCrossentropy'. If this is a multiple-class classification problem, you probably want to try 'CategoricalCrossentropy' or 'SparseCategoricalCrossentropy'. \n",
        "\n",
        "For the metrics, we want to know the accuracy of our model. Therefore, I would recommend 'accuracy'. "
      ]
    },
    {
      "cell_type": "code",
      "metadata": {
        "id": "R2zh-VWoT7o5"
      },
      "source": [
        "# start your code here\n",
        "cat_model.compile(optimizer=tf.keras.optimizers.Adam(learning_rate=.0029),  # Optimizer. Please change 'None' to some meaningful learning rate which is usually <1\n",
        "    # Loss function to minimize\n",
        "    loss=tf.keras.losses.BinaryCrossentropy(),\n",
        "    # List of metrics to monitor\n",
        "    metrics=['accuracy'],\n",
        "                 )\n",
        "# end your code here"
      ],
      "execution_count": null,
      "outputs": []
    },
    {
      "cell_type": "markdown",
      "metadata": {
        "id": "SGSAcJuTZw2C"
      },
      "source": [
        "It's time to train. \n",
        "\n",
        "We can plot training history. It can help us to adjust the parameters. \n",
        "\n",
        "If the training loss increases, we may want to decrease the `learning_rate`.\n",
        "\n",
        "If the training loss has large vibration, we may want to decrease the `learning_rate`. \n",
        "\n",
        "If the training loss decreases too slowly, we need to increase `learning_rate`.\n",
        "\n",
        "If the training loss decreases at a good speed, but ends up large, we may want to increase the epoch number. "
      ]
    },
    {
      "cell_type": "code",
      "metadata": {
        "colab": {
          "base_uri": "https://localhost:8080/",
          "height": 1000
        },
        "id": "TYZnpHLPVIRY",
        "outputId": "5dc73c6a-515d-43bb-af53-4236db134c75"
      },
      "source": [
        "# start your code here\n",
        "history = cat_model.fit(\n",
        "    train_x, # input data\n",
        "    train_y, # real output data\n",
        "    validation_split=0.298, # this number is usually betwwen 0 and 0.3. It is the portion used as validation data, \n",
        "    epochs=99, # how many iterations do you want to train your model? Your data will be reused to train the model for the number of epochs. I trained 5 min for this model\n",
        ")\n",
        "# end your code here. \n",
        "plt.figure()\n",
        "plt.plot(history.history['loss'])\n",
        "plt.plot(history.history['val_loss'])\n",
        "plt.legend(['loss','val_loss'])"
      ],
      "execution_count": null,
      "outputs": [
        {
          "output_type": "stream",
          "name": "stdout",
          "text": [
            "Epoch 1/99\n",
            "5/5 [==============================] - 1s 89ms/step - loss: 2.1010 - accuracy: 0.5479 - val_loss: 0.7472 - val_accuracy: 0.6349\n",
            "Epoch 2/99\n",
            "5/5 [==============================] - 0s 20ms/step - loss: 0.7386 - accuracy: 0.5479 - val_loss: 0.7999 - val_accuracy: 0.4762\n",
            "Epoch 3/99\n",
            "5/5 [==============================] - 0s 37ms/step - loss: 0.6172 - accuracy: 0.6438 - val_loss: 0.7755 - val_accuracy: 0.6508\n",
            "Epoch 4/99\n",
            "5/5 [==============================] - 0s 16ms/step - loss: 0.5894 - accuracy: 0.6781 - val_loss: 0.7823 - val_accuracy: 0.6667\n",
            "Epoch 5/99\n",
            "5/5 [==============================] - 0s 17ms/step - loss: 0.5093 - accuracy: 0.7808 - val_loss: 0.8063 - val_accuracy: 0.4762\n",
            "Epoch 6/99\n",
            "5/5 [==============================] - 0s 17ms/step - loss: 0.5094 - accuracy: 0.7192 - val_loss: 0.7676 - val_accuracy: 0.4762\n",
            "Epoch 7/99\n",
            "5/5 [==============================] - 0s 17ms/step - loss: 0.4750 - accuracy: 0.7603 - val_loss: 0.7585 - val_accuracy: 0.5873\n",
            "Epoch 8/99\n",
            "5/5 [==============================] - 0s 20ms/step - loss: 0.4699 - accuracy: 0.7945 - val_loss: 0.8674 - val_accuracy: 0.6508\n",
            "Epoch 9/99\n",
            "5/5 [==============================] - 0s 21ms/step - loss: 0.4749 - accuracy: 0.7808 - val_loss: 0.9661 - val_accuracy: 0.6349\n",
            "Epoch 10/99\n",
            "5/5 [==============================] - 0s 24ms/step - loss: 0.4089 - accuracy: 0.8082 - val_loss: 1.4345 - val_accuracy: 0.6667\n",
            "Epoch 11/99\n",
            "5/5 [==============================] - 0s 18ms/step - loss: 0.6694 - accuracy: 0.7123 - val_loss: 1.5303 - val_accuracy: 0.6667\n",
            "Epoch 12/99\n",
            "5/5 [==============================] - 0s 20ms/step - loss: 0.9440 - accuracy: 0.7260 - val_loss: 1.3135 - val_accuracy: 0.4286\n",
            "Epoch 13/99\n",
            "5/5 [==============================] - 0s 18ms/step - loss: 0.7548 - accuracy: 0.6781 - val_loss: 0.7745 - val_accuracy: 0.6032\n",
            "Epoch 14/99\n",
            "5/5 [==============================] - 0s 21ms/step - loss: 0.6002 - accuracy: 0.6507 - val_loss: 0.8550 - val_accuracy: 0.6667\n",
            "Epoch 15/99\n",
            "5/5 [==============================] - 0s 17ms/step - loss: 0.4954 - accuracy: 0.7808 - val_loss: 0.8740 - val_accuracy: 0.4921\n",
            "Epoch 16/99\n",
            "5/5 [==============================] - 0s 18ms/step - loss: 0.4500 - accuracy: 0.8082 - val_loss: 0.9798 - val_accuracy: 0.6349\n",
            "Epoch 17/99\n",
            "5/5 [==============================] - 0s 19ms/step - loss: 0.4395 - accuracy: 0.7945 - val_loss: 0.9163 - val_accuracy: 0.5873\n",
            "Epoch 18/99\n",
            "5/5 [==============================] - 0s 20ms/step - loss: 0.4135 - accuracy: 0.8014 - val_loss: 1.0008 - val_accuracy: 0.5079\n",
            "Epoch 19/99\n",
            "5/5 [==============================] - 0s 30ms/step - loss: 0.4208 - accuracy: 0.7740 - val_loss: 0.8886 - val_accuracy: 0.6032\n",
            "Epoch 20/99\n",
            "5/5 [==============================] - 0s 39ms/step - loss: 0.4442 - accuracy: 0.7603 - val_loss: 1.2994 - val_accuracy: 0.6667\n",
            "Epoch 21/99\n",
            "5/5 [==============================] - 0s 21ms/step - loss: 0.5481 - accuracy: 0.7260 - val_loss: 1.0244 - val_accuracy: 0.5238\n",
            "Epoch 22/99\n",
            "5/5 [==============================] - 0s 20ms/step - loss: 0.4981 - accuracy: 0.7534 - val_loss: 0.8952 - val_accuracy: 0.5714\n",
            "Epoch 23/99\n",
            "5/5 [==============================] - 0s 35ms/step - loss: 0.4925 - accuracy: 0.7603 - val_loss: 0.9843 - val_accuracy: 0.6190\n",
            "Epoch 24/99\n",
            "5/5 [==============================] - 0s 21ms/step - loss: 0.3330 - accuracy: 0.8699 - val_loss: 0.9379 - val_accuracy: 0.6190\n",
            "Epoch 25/99\n",
            "5/5 [==============================] - 0s 23ms/step - loss: 0.3081 - accuracy: 0.8493 - val_loss: 0.9388 - val_accuracy: 0.5714\n",
            "Epoch 26/99\n",
            "5/5 [==============================] - 0s 18ms/step - loss: 0.2586 - accuracy: 0.9041 - val_loss: 0.9352 - val_accuracy: 0.6032\n",
            "Epoch 27/99\n",
            "5/5 [==============================] - 0s 18ms/step - loss: 0.2371 - accuracy: 0.9521 - val_loss: 0.9306 - val_accuracy: 0.5556\n",
            "Epoch 28/99\n",
            "5/5 [==============================] - 0s 16ms/step - loss: 0.2393 - accuracy: 0.9247 - val_loss: 0.9720 - val_accuracy: 0.6032\n",
            "Epoch 29/99\n",
            "5/5 [==============================] - 0s 20ms/step - loss: 0.2552 - accuracy: 0.9041 - val_loss: 1.0107 - val_accuracy: 0.6190\n",
            "Epoch 30/99\n",
            "5/5 [==============================] - 0s 23ms/step - loss: 0.2324 - accuracy: 0.9178 - val_loss: 0.9986 - val_accuracy: 0.6032\n",
            "Epoch 31/99\n",
            "5/5 [==============================] - 0s 35ms/step - loss: 0.2065 - accuracy: 0.9315 - val_loss: 1.0475 - val_accuracy: 0.5079\n",
            "Epoch 32/99\n",
            "5/5 [==============================] - 0s 17ms/step - loss: 0.2117 - accuracy: 0.9315 - val_loss: 0.9787 - val_accuracy: 0.5714\n",
            "Epoch 33/99\n",
            "5/5 [==============================] - 0s 27ms/step - loss: 0.1712 - accuracy: 0.9658 - val_loss: 1.0405 - val_accuracy: 0.5079\n",
            "Epoch 34/99\n",
            "5/5 [==============================] - 0s 29ms/step - loss: 0.1851 - accuracy: 0.9315 - val_loss: 1.0269 - val_accuracy: 0.5873\n",
            "Epoch 35/99\n",
            "5/5 [==============================] - 0s 17ms/step - loss: 0.1836 - accuracy: 0.9589 - val_loss: 1.4884 - val_accuracy: 0.6508\n",
            "Epoch 36/99\n",
            "5/5 [==============================] - 0s 16ms/step - loss: 0.3913 - accuracy: 0.8219 - val_loss: 1.3769 - val_accuracy: 0.6508\n",
            "Epoch 37/99\n",
            "5/5 [==============================] - 0s 21ms/step - loss: 0.3992 - accuracy: 0.8082 - val_loss: 1.4301 - val_accuracy: 0.5079\n",
            "Epoch 38/99\n",
            "5/5 [==============================] - 0s 18ms/step - loss: 0.4675 - accuracy: 0.7877 - val_loss: 1.3449 - val_accuracy: 0.4921\n",
            "Epoch 39/99\n",
            "5/5 [==============================] - 0s 23ms/step - loss: 0.3911 - accuracy: 0.8356 - val_loss: 1.4337 - val_accuracy: 0.5873\n",
            "Epoch 40/99\n",
            "5/5 [==============================] - 0s 19ms/step - loss: 0.2851 - accuracy: 0.8699 - val_loss: 1.3581 - val_accuracy: 0.6032\n",
            "Epoch 41/99\n",
            "5/5 [==============================] - 0s 15ms/step - loss: 0.2176 - accuracy: 0.8973 - val_loss: 1.3321 - val_accuracy: 0.5397\n",
            "Epoch 42/99\n",
            "5/5 [==============================] - 0s 30ms/step - loss: 0.1539 - accuracy: 0.9521 - val_loss: 1.2389 - val_accuracy: 0.6032\n",
            "Epoch 43/99\n",
            "5/5 [==============================] - 0s 48ms/step - loss: 0.1437 - accuracy: 0.9795 - val_loss: 1.1699 - val_accuracy: 0.5873\n",
            "Epoch 44/99\n",
            "5/5 [==============================] - 0s 23ms/step - loss: 0.1056 - accuracy: 0.9932 - val_loss: 1.1938 - val_accuracy: 0.5873\n",
            "Epoch 45/99\n",
            "5/5 [==============================] - 0s 16ms/step - loss: 0.1170 - accuracy: 0.9726 - val_loss: 1.3730 - val_accuracy: 0.5556\n",
            "Epoch 46/99\n",
            "5/5 [==============================] - 0s 16ms/step - loss: 0.1695 - accuracy: 0.9247 - val_loss: 1.2943 - val_accuracy: 0.5238\n",
            "Epoch 47/99\n",
            "5/5 [==============================] - 0s 24ms/step - loss: 0.1386 - accuracy: 0.9658 - val_loss: 1.3934 - val_accuracy: 0.4921\n",
            "Epoch 48/99\n",
            "5/5 [==============================] - 0s 28ms/step - loss: 0.0980 - accuracy: 0.9863 - val_loss: 1.3828 - val_accuracy: 0.5397\n",
            "Epoch 49/99\n",
            "5/5 [==============================] - 0s 23ms/step - loss: 0.0698 - accuracy: 0.9932 - val_loss: 1.4785 - val_accuracy: 0.5873\n",
            "Epoch 50/99\n",
            "5/5 [==============================] - 0s 24ms/step - loss: 0.0761 - accuracy: 0.9795 - val_loss: 1.4382 - val_accuracy: 0.5556\n",
            "Epoch 51/99\n",
            "5/5 [==============================] - 0s 32ms/step - loss: 0.0682 - accuracy: 0.9863 - val_loss: 1.5078 - val_accuracy: 0.5079\n",
            "Epoch 52/99\n",
            "5/5 [==============================] - 0s 25ms/step - loss: 0.0959 - accuracy: 0.9795 - val_loss: 1.6031 - val_accuracy: 0.4921\n",
            "Epoch 53/99\n",
            "5/5 [==============================] - 0s 23ms/step - loss: 0.0719 - accuracy: 0.9863 - val_loss: 1.6147 - val_accuracy: 0.5873\n",
            "Epoch 54/99\n",
            "5/5 [==============================] - 0s 27ms/step - loss: 0.0439 - accuracy: 1.0000 - val_loss: 1.6664 - val_accuracy: 0.5873\n",
            "Epoch 55/99\n",
            "5/5 [==============================] - 0s 23ms/step - loss: 0.0403 - accuracy: 1.0000 - val_loss: 1.6606 - val_accuracy: 0.5556\n",
            "Epoch 56/99\n",
            "5/5 [==============================] - 0s 20ms/step - loss: 0.0513 - accuracy: 0.9932 - val_loss: 1.6906 - val_accuracy: 0.5397\n",
            "Epoch 57/99\n",
            "5/5 [==============================] - 0s 37ms/step - loss: 0.0442 - accuracy: 0.9932 - val_loss: 1.9391 - val_accuracy: 0.5873\n",
            "Epoch 58/99\n",
            "5/5 [==============================] - 0s 22ms/step - loss: 0.0849 - accuracy: 0.9658 - val_loss: 2.2226 - val_accuracy: 0.6508\n",
            "Epoch 59/99\n",
            "5/5 [==============================] - 0s 32ms/step - loss: 0.2493 - accuracy: 0.8836 - val_loss: 1.5629 - val_accuracy: 0.5714\n",
            "Epoch 60/99\n",
            "5/5 [==============================] - 0s 22ms/step - loss: 0.1359 - accuracy: 0.9315 - val_loss: 1.6921 - val_accuracy: 0.4762\n",
            "Epoch 61/99\n",
            "5/5 [==============================] - 0s 25ms/step - loss: 0.1981 - accuracy: 0.8699 - val_loss: 1.4532 - val_accuracy: 0.4921\n",
            "Epoch 62/99\n",
            "5/5 [==============================] - 0s 26ms/step - loss: 0.2050 - accuracy: 0.9178 - val_loss: 2.3333 - val_accuracy: 0.6667\n",
            "Epoch 63/99\n",
            "5/5 [==============================] - 0s 23ms/step - loss: 0.2644 - accuracy: 0.8973 - val_loss: 1.6925 - val_accuracy: 0.5714\n",
            "Epoch 64/99\n",
            "5/5 [==============================] - 0s 32ms/step - loss: 0.3158 - accuracy: 0.8630 - val_loss: 2.0220 - val_accuracy: 0.4921\n",
            "Epoch 65/99\n",
            "5/5 [==============================] - 0s 35ms/step - loss: 0.2367 - accuracy: 0.8904 - val_loss: 1.4457 - val_accuracy: 0.5714\n",
            "Epoch 66/99\n",
            "5/5 [==============================] - 0s 20ms/step - loss: 0.0901 - accuracy: 0.9726 - val_loss: 1.5524 - val_accuracy: 0.5714\n",
            "Epoch 67/99\n",
            "5/5 [==============================] - 0s 16ms/step - loss: 0.1240 - accuracy: 0.9521 - val_loss: 1.5870 - val_accuracy: 0.4444\n",
            "Epoch 68/99\n",
            "5/5 [==============================] - 0s 17ms/step - loss: 0.0950 - accuracy: 0.9658 - val_loss: 1.5233 - val_accuracy: 0.5714\n",
            "Epoch 69/99\n",
            "5/5 [==============================] - 0s 18ms/step - loss: 0.0731 - accuracy: 0.9863 - val_loss: 1.5514 - val_accuracy: 0.5873\n",
            "Epoch 70/99\n",
            "5/5 [==============================] - 0s 18ms/step - loss: 0.0572 - accuracy: 1.0000 - val_loss: 1.6328 - val_accuracy: 0.5873\n",
            "Epoch 71/99\n",
            "5/5 [==============================] - 0s 29ms/step - loss: 0.0531 - accuracy: 0.9932 - val_loss: 1.8456 - val_accuracy: 0.5873\n",
            "Epoch 72/99\n",
            "5/5 [==============================] - 0s 22ms/step - loss: 0.0361 - accuracy: 0.9932 - val_loss: 2.0145 - val_accuracy: 0.5714\n",
            "Epoch 73/99\n",
            "5/5 [==============================] - 0s 16ms/step - loss: 0.0169 - accuracy: 1.0000 - val_loss: 2.0217 - val_accuracy: 0.5873\n",
            "Epoch 74/99\n",
            "5/5 [==============================] - 0s 21ms/step - loss: 0.0166 - accuracy: 1.0000 - val_loss: 1.9884 - val_accuracy: 0.5556\n",
            "Epoch 75/99\n",
            "5/5 [==============================] - 0s 20ms/step - loss: 0.0144 - accuracy: 1.0000 - val_loss: 1.9834 - val_accuracy: 0.5714\n",
            "Epoch 76/99\n",
            "5/5 [==============================] - 0s 17ms/step - loss: 0.0125 - accuracy: 1.0000 - val_loss: 2.0076 - val_accuracy: 0.5714\n",
            "Epoch 77/99\n",
            "5/5 [==============================] - 0s 19ms/step - loss: 0.0116 - accuracy: 1.0000 - val_loss: 2.0348 - val_accuracy: 0.5714\n",
            "Epoch 78/99\n",
            "5/5 [==============================] - 0s 20ms/step - loss: 0.0104 - accuracy: 1.0000 - val_loss: 2.1129 - val_accuracy: 0.5714\n",
            "Epoch 79/99\n",
            "5/5 [==============================] - 0s 28ms/step - loss: 0.0089 - accuracy: 1.0000 - val_loss: 2.1901 - val_accuracy: 0.5714\n",
            "Epoch 80/99\n",
            "5/5 [==============================] - 0s 20ms/step - loss: 0.0067 - accuracy: 1.0000 - val_loss: 2.2462 - val_accuracy: 0.5714\n",
            "Epoch 81/99\n",
            "5/5 [==============================] - 0s 23ms/step - loss: 0.0053 - accuracy: 1.0000 - val_loss: 2.3426 - val_accuracy: 0.5714\n",
            "Epoch 82/99\n",
            "5/5 [==============================] - 0s 20ms/step - loss: 0.0045 - accuracy: 1.0000 - val_loss: 2.3783 - val_accuracy: 0.5873\n",
            "Epoch 83/99\n",
            "5/5 [==============================] - 0s 21ms/step - loss: 0.0038 - accuracy: 1.0000 - val_loss: 2.4526 - val_accuracy: 0.5714\n",
            "Epoch 84/99\n",
            "5/5 [==============================] - 0s 23ms/step - loss: 0.0033 - accuracy: 1.0000 - val_loss: 2.5145 - val_accuracy: 0.5714\n",
            "Epoch 85/99\n",
            "5/5 [==============================] - 0s 24ms/step - loss: 0.0031 - accuracy: 1.0000 - val_loss: 2.5471 - val_accuracy: 0.5873\n",
            "Epoch 86/99\n",
            "5/5 [==============================] - 0s 19ms/step - loss: 0.0027 - accuracy: 1.0000 - val_loss: 2.5988 - val_accuracy: 0.5714\n",
            "Epoch 87/99\n",
            "5/5 [==============================] - 0s 26ms/step - loss: 0.0026 - accuracy: 1.0000 - val_loss: 2.6401 - val_accuracy: 0.5714\n",
            "Epoch 88/99\n",
            "5/5 [==============================] - 0s 20ms/step - loss: 0.0023 - accuracy: 1.0000 - val_loss: 2.6867 - val_accuracy: 0.5714\n",
            "Epoch 89/99\n",
            "5/5 [==============================] - 0s 22ms/step - loss: 0.0024 - accuracy: 1.0000 - val_loss: 2.7142 - val_accuracy: 0.5873\n",
            "Epoch 90/99\n",
            "5/5 [==============================] - 0s 16ms/step - loss: 0.0022 - accuracy: 1.0000 - val_loss: 2.7451 - val_accuracy: 0.5873\n",
            "Epoch 91/99\n",
            "5/5 [==============================] - 0s 26ms/step - loss: 0.0021 - accuracy: 1.0000 - val_loss: 2.7830 - val_accuracy: 0.5714\n",
            "Epoch 92/99\n",
            "5/5 [==============================] - 0s 18ms/step - loss: 0.0019 - accuracy: 1.0000 - val_loss: 2.8089 - val_accuracy: 0.5873\n",
            "Epoch 93/99\n",
            "5/5 [==============================] - 0s 15ms/step - loss: 0.0018 - accuracy: 1.0000 - val_loss: 2.8381 - val_accuracy: 0.5714\n",
            "Epoch 94/99\n",
            "5/5 [==============================] - 0s 31ms/step - loss: 0.0017 - accuracy: 1.0000 - val_loss: 2.8643 - val_accuracy: 0.5714\n",
            "Epoch 95/99\n",
            "5/5 [==============================] - 0s 30ms/step - loss: 0.0016 - accuracy: 1.0000 - val_loss: 2.8900 - val_accuracy: 0.5714\n",
            "Epoch 96/99\n",
            "5/5 [==============================] - 0s 26ms/step - loss: 0.0016 - accuracy: 1.0000 - val_loss: 2.9138 - val_accuracy: 0.5714\n",
            "Epoch 97/99\n",
            "5/5 [==============================] - 0s 25ms/step - loss: 0.0016 - accuracy: 1.0000 - val_loss: 2.9402 - val_accuracy: 0.5873\n",
            "Epoch 98/99\n",
            "5/5 [==============================] - 0s 29ms/step - loss: 0.0015 - accuracy: 1.0000 - val_loss: 2.9619 - val_accuracy: 0.5714\n",
            "Epoch 99/99\n",
            "5/5 [==============================] - 0s 33ms/step - loss: 0.0014 - accuracy: 1.0000 - val_loss: 2.9887 - val_accuracy: 0.5873\n"
          ]
        },
        {
          "output_type": "execute_result",
          "data": {
            "text/plain": [
              "<matplotlib.legend.Legend at 0x7f090fd1cf90>"
            ]
          },
          "metadata": {},
          "execution_count": 308
        },
        {
          "output_type": "display_data",
          "data": {
            "image/png": "[encoded data removed]",
            "text/plain": [
              "<Figure size 360x288 with 1 Axes>"
            ]
          },
          "metadata": {
            "needs_background": "light"
          }
        }
      ]
    },
    {
      "cell_type": "markdown",
      "metadata": {
        "id": "-yLMfXSWfKVA"
      },
      "source": [
        "### 4. test ###\n",
        "Let us test their performance using our test dataset. The test dataset is never used to train the models, and reflects the acutual performance of the model when it is used in the general images.\n",
        "\n",
        "To evaluate the model , we can use\n",
        "`cat_model.evaluate(test_x,test_y)`. "
      ]
    },
    {
      "cell_type": "code",
      "metadata": {
        "colab": {
          "base_uri": "https://localhost:8080/"
        },
        "id": "4pyTS3HmHXFQ",
        "outputId": "e7bace84-3c80-4d1e-a40b-917ab9787b53"
      },
      "source": [
        "cat_model.evaluate(test_x,test_y)"
      ],
      "execution_count": null,
      "outputs": [
        {
          "output_type": "stream",
          "name": "stdout",
          "text": [
            "2/2 [==============================] - 0s 7ms/step - loss: 2.3915 - accuracy: 0.7200\n"
          ]
        },
        {
          "output_type": "execute_result",
          "data": {
            "text/plain": [
              "[2.3915348052978516, 0.7200000286102295]"
            ]
          },
          "metadata": {},
          "execution_count": 309
        }
      ]
    },
    {
      "cell_type": "markdown",
      "metadata": {
        "id": "crWckG9I807Q"
      },
      "source": [
        "The expected accuracy is higher than 0.7. If the accuracy is lower than 0.7, you may want to increase the epoch number, adjust the learning rate, and the regularizer weight, to achieve the goal. \n",
        "\n",
        "For your reference, I trained the model for 5 min to achieve that goal. \n",
        "\n",
        "If you have achieved the 0.7 goal, I would like to challenge you for the 0.8 accuracy for the test set. "
      ]
    },
    {
      "cell_type": "markdown",
      "source": [
        "### 5- Adding Regularization ###\n",
        "After enough training, you probably notice that while the training loss is very small, the validation loss is quite large. This is what we called **low bias high vairance** problem. We have several ways to deal with it, \n",
        "1. L1/L2 regularization, \n",
        "2. drop out, and \n",
        "3. early stop. \n",
        "\n",
        "I would recommend you try the regularization first, because it's easy to use and usually works. \n",
        "\n",
        "To add regularization to the network, we only need to specify this option in the 'Dense' layer as follows.\n",
        "\n",
        "`tf.keras.layers.Dense(20,activation='relu', \n",
        "                          kernel_initializer='glorot_uniform',\n",
        "                          bias_initializer='zeros', \n",
        "                          kernel_regularizer=tf.keras.regularizers.L2(0.01))`\n",
        "\n",
        "The parameter **kernel_regularizer=tf.keras.regularizers.L2(0.01)** says that we want an 'L2' regularizer with weight 0.01. A higher weight usually can reduce the validation loss more. But if the weight is too large, the training loss might redecus very slowly."
      ],
      "metadata": {
        "id": "U61bqEXKOFq1"
      }
    },
    {
      "cell_type": "code",
      "source": [
        "tf.random.set_seed(1)\n",
        "cat_model_regu=tf.keras.Sequential([\n",
        "    tf.keras.layers.InputLayer(input_shape=(12288,)),\n",
        "    tf.keras.layers.Dense(10,activation='relu', # in layer 1, we will have 20 neurons and use 'relu'\n",
        "                          kernel_initializer='glorot_uniform',# we will randomly choose the initial weight using the 'glorot_uniform' method as the activation function\n",
        "                          bias_initializer='zeros', # we will initialize all bias to be zeros.\n",
        "                          kernel_regularizer=tf.keras.regularizers.L2(0.05)), # L2-regularization can be added here\n",
        "    #please feel free to add more hidden layers with regularizer\n",
        "    tf.keras.layers.Dense(50,activation='sigmoid', # in layer 1, we will have 20 neurons and use 'relu'\n",
        "                          kernel_initializer='glorot_uniform',# we will randomly choose the initial weight using the 'glorot_uniform' method as the activation function\n",
        "                          bias_initializer='zeros', # we will initialize all bias to be zeros.\n",
        "                          kernel_regularizer=tf.keras.regularizers.L2(0.05)), # L2-regularization can be added here\n",
        "    # End adding hidden layers \n",
        "    tf.keras.layers.Dense(1,activation='sigmoid', \n",
        "                            kernel_initializer='glorot_uniform',\n",
        "                            bias_initializer='zeros', \n",
        "                            kernel_regularizer=tf.keras.regularizers.L2(0.05)),\n",
        "])\n",
        "\n",
        "cat_model_regu.summary()"
      ],
      "metadata": {
        "id": "a2yXbuObOcKl",
        "colab": {
          "base_uri": "https://localhost:8080/"
        },
        "outputId": "6b76e309-bcb4-436e-abc0-196d8c41cc23"
      },
      "execution_count": null,
      "outputs": [
        {
          "output_type": "stream",
          "name": "stdout",
          "text": [
            "Model: \"sequential_40\"\n",
            "_________________________________________________________________\n",
            " Layer (type)                Output Shape              Param #   \n",
            "=================================================================\n",
            " dense_110 (Dense)           (None, 10)                122890    \n",
            "                                                                 \n",
            " dense_111 (Dense)           (None, 50)                550       \n",
            "                                                                 \n",
            " dense_112 (Dense)           (None, 1)                 51        \n",
            "                                                                 \n",
            "=================================================================\n",
            "Total params: 123,491\n",
            "Trainable params: 123,491\n",
            "Non-trainable params: 0\n",
            "_________________________________________________________________\n"
          ]
        }
      ]
    },
    {
      "cell_type": "markdown",
      "source": [
        "Now, you can compile and train the regularized neural network as before."
      ],
      "metadata": {
        "id": "wFRAcU0oPJa8"
      }
    },
    {
      "cell_type": "code",
      "source": [
        "# start your code here\n",
        "cat_model_regu.compile(optimizer=tf.keras.optimizers.Adam(learning_rate=0.00111),  # Optimizer please change \"None\" to some meaningful number here\n",
        "    # Loss function to minimize\n",
        "    loss=tf.keras.losses.BinaryCrossentropy(),\n",
        "    # List of metrics to monitor\n",
        "    metrics=['accuracy'],\n",
        "                 )\n",
        "# end your code here. "
      ],
      "metadata": {
        "id": "WBDncfdhPMiL"
      },
      "execution_count": null,
      "outputs": []
    },
    {
      "cell_type": "code",
      "source": [
        "# start your code here\n",
        "history_regu = cat_model_regu.fit(\n",
        "    train_x, # input data\n",
        "    train_y, # real output data\n",
        "    validation_split=0.29999999999, # this number is usually betwwen 0 and 0.3. It is the portion used as validation data, \n",
        "    epochs=10, # how many iterations do you want to train your model? Your data will be reused to train the model for the number of epochs. I trained 5 min for this model\n",
        ")\n",
        "# end your code here\n",
        "\n",
        "plt.figure()\n",
        "plt.plot(history_regu.history['loss'])\n",
        "plt.plot(history_regu.history['val_loss'])\n",
        "plt.legend(['loss','val_loss'])"
      ],
      "metadata": {
        "id": "7ykpmUmDPWTl",
        "colab": {
          "base_uri": "https://localhost:8080/",
          "height": 630
        },
        "outputId": "559031e0-7580-4194-f9fc-c2b34401f245"
      },
      "execution_count": null,
      "outputs": [
        {
          "output_type": "stream",
          "name": "stdout",
          "text": [
            "Epoch 1/10\n",
            "5/5 [==============================] - 0s 38ms/step - loss: 0.6596 - accuracy: 0.6438 - val_loss: 0.6409 - val_accuracy: 0.6825\n",
            "Epoch 2/10\n",
            "5/5 [==============================] - 0s 28ms/step - loss: 0.6592 - accuracy: 0.6438 - val_loss: 0.6405 - val_accuracy: 0.6825\n",
            "Epoch 3/10\n",
            "5/5 [==============================] - 0s 16ms/step - loss: 0.6593 - accuracy: 0.6438 - val_loss: 0.6409 - val_accuracy: 0.6825\n",
            "Epoch 4/10\n",
            "5/5 [==============================] - 0s 29ms/step - loss: 0.6592 - accuracy: 0.6438 - val_loss: 0.6397 - val_accuracy: 0.6825\n",
            "Epoch 5/10\n",
            "5/5 [==============================] - 0s 20ms/step - loss: 0.6614 - accuracy: 0.6438 - val_loss: 0.6392 - val_accuracy: 0.6825\n",
            "Epoch 6/10\n",
            "5/5 [==============================] - 0s 37ms/step - loss: 0.6610 - accuracy: 0.6438 - val_loss: 0.6387 - val_accuracy: 0.6825\n",
            "Epoch 7/10\n",
            "5/5 [==============================] - 0s 40ms/step - loss: 0.6583 - accuracy: 0.6438 - val_loss: 0.6390 - val_accuracy: 0.6825\n",
            "Epoch 8/10\n",
            "5/5 [==============================] - 0s 39ms/step - loss: 0.6587 - accuracy: 0.6438 - val_loss: 0.6401 - val_accuracy: 0.6825\n",
            "Epoch 9/10\n",
            "5/5 [==============================] - 0s 19ms/step - loss: 0.6581 - accuracy: 0.6438 - val_loss: 0.6392 - val_accuracy: 0.6825\n",
            "Epoch 10/10\n",
            "5/5 [==============================] - 0s 18ms/step - loss: 0.6575 - accuracy: 0.6438 - val_loss: 0.6383 - val_accuracy: 0.6825\n"
          ]
        },
        {
          "output_type": "execute_result",
          "data": {
            "text/plain": [
              "<matplotlib.legend.Legend at 0x7f090d11fc90>"
            ]
          },
          "metadata": {},
          "execution_count": 332
        },
        {
          "output_type": "display_data",
          "data": {
            "image/png": "[encoded data removed]",
            "text/plain": [
              "<Figure size 360x288 with 1 Axes>"
            ]
          },
          "metadata": {
            "needs_background": "light"
          }
        }
      ]
    },
    {
      "cell_type": "markdown",
      "source": [
        "After the training, we can evaluate the regularized NN use the following command. "
      ],
      "metadata": {
        "id": "1WOoKagyPudE"
      }
    },
    {
      "cell_type": "code",
      "source": [
        "cat_model_regu.evaluate(test_x,test_y)"
      ],
      "metadata": {
        "id": "YXZxD8R-P78E",
        "colab": {
          "base_uri": "https://localhost:8080/"
        },
        "outputId": "6353dd60-4113-4e97-f52e-7121bdc0d814"
      },
      "execution_count": null,
      "outputs": [
        {
          "output_type": "stream",
          "name": "stdout",
          "text": [
            "2/2 [==============================] - 0s 7ms/step - loss: 0.8394 - accuracy: 0.3400\n"
          ]
        },
        {
          "output_type": "execute_result",
          "data": {
            "text/plain": [
              "[0.8394467234611511, 0.3400000035762787]"
            ]
          },
          "metadata": {},
          "execution_count": 333
        }
      ]
    },
    {
      "cell_type": "markdown",
      "source": [
        "The expected accuracy is highter than 0.8. "
      ],
      "metadata": {
        "id": "o1IED5YNP7GM"
      }
    }
  ]
}